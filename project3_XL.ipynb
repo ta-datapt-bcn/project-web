{
 "cells": [
  {
   "cell_type": "markdown",
   "metadata": {},
   "source": [
    "# Project 3 - API and Web Data Scraping"
   ]
  },
  {
   "cell_type": "markdown",
   "metadata": {},
   "source": [
    "Xabi López, April 10, 2021"
   ]
  },
  {
   "cell_type": "markdown",
   "metadata": {},
   "source": [
    "## Importing libraries & creating functions "
   ]
  },
  {
   "cell_type": "code",
   "execution_count": 2,
   "metadata": {},
   "outputs": [],
   "source": [
    "import requests\n",
    "from bs4 import BeautifulSoup\n",
    "from datetime import date\n",
    "import pandas as pd\n",
    "import spotipy\n",
    "from spotipy.oauth2 import SpotifyClientCredentials"
   ]
  },
  {
   "cell_type": "code",
   "execution_count": 3,
   "metadata": {},
   "outputs": [],
   "source": [
    "def mes_num(x):\n",
    "    meses = ['enero', 'febrero', 'marzo', 'abril', 'mayo', 'junio', 'julio', 'agosto', 'septiembre', 'octubre', 'noviembre', 'diciembre']\n",
    "    for i, j in zip(range(1,13),meses):\n",
    "        if x.lower() == j:\n",
    "            return i\n",
    "        else:\n",
    "            pass"
   ]
  },
  {
   "cell_type": "code",
   "execution_count": 4,
   "metadata": {},
   "outputs": [],
   "source": [
    "def show_to_dict(show):\n",
    "    artist = show.find('span', attrs={'itemprop':'name'}).text.replace('á','a').replace('é','e').replace('í','i').replace('ó','o').replace('ú','u')\n",
    "    year = int(show.find('td', attrs={'class':'fechaicono'}).text.split()[3])\n",
    "    month = mes_num(show.find('td', attrs={'class':'fechaicono'}).text.split()[2])\n",
    "    day = int(show.find('td', attrs={'class':'fechaicono'}).text.split()[1])\n",
    "    location = show.find('td', attrs={'itemprop':'location'}).text.lstrip()\n",
    "    return {'artist': artist, 'date':date(year, month, day).isoformat(),'location':location}"
   ]
  },
  {
   "cell_type": "markdown",
   "metadata": {},
   "source": [
    "## Finding shows in the city & month we are interested in"
   ]
  },
  {
   "cell_type": "code",
   "execution_count": 5,
   "metadata": {},
   "outputs": [
    {
     "name": "stdout",
     "output_type": "stream",
     "text": [
      "City: Burgos\n"
     ]
    }
   ],
   "source": [
    "city = input('City: ')"
   ]
  },
  {
   "cell_type": "code",
   "execution_count": 6,
   "metadata": {},
   "outputs": [
    {
     "name": "stdout",
     "output_type": "stream",
     "text": [
      "Month: Septiembre\n"
     ]
    }
   ],
   "source": [
    "month = input('Month: ')"
   ]
  },
  {
   "cell_type": "code",
   "execution_count": 8,
   "metadata": {},
   "outputs": [],
   "source": [
    "list_shows = []\n",
    "\n",
    "url_city = f'https://www.laganzua.net/conciertos/{city.lower()}'\n",
    "shows_city = requests.get(url_city)\n",
    "soup = BeautifulSoup(shows_city.text, \"html.parser\")\n",
    "try:\n",
    "    pages = soup.findAll('ul', attrs={\"class\":\"paginador\"})[0]\n",
    "    page_max = int([i.text for i in pages if i.text.isnumeric()][-1])\n",
    "    for page in range(1,page_max+1):\n",
    "        url_city = f'https://www.laganzua.net/conciertos/{city.lower()}-pagina-{page}'\n",
    "        shows_city = requests.get(url_city)\n",
    "        soup = BeautifulSoup(shows_city.text, \"html.parser\")\n",
    "        shows = soup.findAll('tr', attrs={\"class\":\"categoria\"})\n",
    "        for show in shows:\n",
    "            list_shows.append(show_to_dict(show))\n",
    "        shows = soup.findAll('tr', attrs={\"class\":\"categoriab\"})\n",
    "        for show in shows:\n",
    "            list_shows.append(show_to_dict(show))\n",
    "except:\n",
    "    url_city = f'https://www.laganzua.net/conciertos/{city.lower()}'\n",
    "    shows_city = requests.get(url_city)\n",
    "    soup = BeautifulSoup(shows_city.text, \"html.parser\")\n",
    "    shows = soup.findAll('tr', attrs={\"class\":\"categoria\"})\n",
    "    for show in shows:\n",
    "        list_shows.append(show_to_dict(show))\n",
    "    shows = soup.findAll('tr', attrs={\"class\":\"categoriab\"})\n",
    "    for show in shows:\n",
    "        list_shows.append(show_to_dict(show))"
   ]
  },
  {
   "cell_type": "code",
   "execution_count": 9,
   "metadata": {},
   "outputs": [
    {
     "data": {
      "text/html": [
       "<div>\n",
       "<style scoped>\n",
       "    .dataframe tbody tr th:only-of-type {\n",
       "        vertical-align: middle;\n",
       "    }\n",
       "\n",
       "    .dataframe tbody tr th {\n",
       "        vertical-align: top;\n",
       "    }\n",
       "\n",
       "    .dataframe thead th {\n",
       "        text-align: right;\n",
       "    }\n",
       "</style>\n",
       "<table border=\"1\" class=\"dataframe\">\n",
       "  <thead>\n",
       "    <tr style=\"text-align: right;\">\n",
       "      <th></th>\n",
       "      <th>artist</th>\n",
       "      <th>date</th>\n",
       "      <th>location</th>\n",
       "      <th>month</th>\n",
       "    </tr>\n",
       "  </thead>\n",
       "  <tbody>\n",
       "    <tr>\n",
       "      <th>0</th>\n",
       "      <td>Fernandocosta</td>\n",
       "      <td>2021-05-15</td>\n",
       "      <td>Sala Andén 56 Burgos</td>\n",
       "      <td>5</td>\n",
       "    </tr>\n",
       "    <tr>\n",
       "      <th>1</th>\n",
       "      <td>Sonorama Ribera 2021</td>\n",
       "      <td>2021-08-11</td>\n",
       "      <td>Plaza Mayor Aranda Del Duero, Burgos</td>\n",
       "      <td>8</td>\n",
       "    </tr>\n",
       "    <tr>\n",
       "      <th>2</th>\n",
       "      <td>Texas</td>\n",
       "      <td>2021-09-26</td>\n",
       "      <td>Auditorio Fórum Evolución  Burgos</td>\n",
       "      <td>9</td>\n",
       "    </tr>\n",
       "    <tr>\n",
       "      <th>3</th>\n",
       "      <td>Anier</td>\n",
       "      <td>2021-11-06</td>\n",
       "      <td>Sala La Rúa Burgos</td>\n",
       "      <td>11</td>\n",
       "    </tr>\n",
       "  </tbody>\n",
       "</table>\n",
       "</div>"
      ],
      "text/plain": [
       "                 artist       date                              location  \\\n",
       "0         Fernandocosta 2021-05-15                  Sala Andén 56 Burgos   \n",
       "1  Sonorama Ribera 2021 2021-08-11  Plaza Mayor Aranda Del Duero, Burgos   \n",
       "2                 Texas 2021-09-26     Auditorio Fórum Evolución  Burgos   \n",
       "3                 Anier 2021-11-06                    Sala La Rúa Burgos   \n",
       "\n",
       "   month  \n",
       "0      5  \n",
       "1      8  \n",
       "2      9  \n",
       "3     11  "
      ]
     },
     "execution_count": 9,
     "metadata": {},
     "output_type": "execute_result"
    }
   ],
   "source": [
    "total_shows = pd.DataFrame(list_shows).sort_values('date').reset_index().drop('index',axis=1)\n",
    "total_shows['date'] = pd.to_datetime(total_shows['date'])\n",
    "total_shows['month']=total_shows['date'].dt.month\n",
    "total_shows"
   ]
  },
  {
   "cell_type": "code",
   "execution_count": 10,
   "metadata": {},
   "outputs": [
    {
     "data": {
      "text/html": [
       "<div>\n",
       "<style scoped>\n",
       "    .dataframe tbody tr th:only-of-type {\n",
       "        vertical-align: middle;\n",
       "    }\n",
       "\n",
       "    .dataframe tbody tr th {\n",
       "        vertical-align: top;\n",
       "    }\n",
       "\n",
       "    .dataframe thead th {\n",
       "        text-align: right;\n",
       "    }\n",
       "</style>\n",
       "<table border=\"1\" class=\"dataframe\">\n",
       "  <thead>\n",
       "    <tr style=\"text-align: right;\">\n",
       "      <th></th>\n",
       "      <th>artist</th>\n",
       "      <th>date</th>\n",
       "      <th>location</th>\n",
       "    </tr>\n",
       "  </thead>\n",
       "  <tbody>\n",
       "    <tr>\n",
       "      <th>2</th>\n",
       "      <td>Texas</td>\n",
       "      <td>2021-09-26</td>\n",
       "      <td>Auditorio Fórum Evolución  Burgos</td>\n",
       "    </tr>\n",
       "  </tbody>\n",
       "</table>\n",
       "</div>"
      ],
      "text/plain": [
       "  artist       date                           location\n",
       "2  Texas 2021-09-26  Auditorio Fórum Evolución  Burgos"
      ]
     },
     "execution_count": 10,
     "metadata": {},
     "output_type": "execute_result"
    }
   ],
   "source": [
    "shows = total_shows[total_shows['month']==mes_num(month)]\n",
    "shows[['artist','date','location']]"
   ]
  },
  {
   "cell_type": "markdown",
   "metadata": {},
   "source": [
    "## Obtaining all the songs from Spotify"
   ]
  },
  {
   "cell_type": "code",
   "execution_count": 11,
   "metadata": {},
   "outputs": [],
   "source": [
    "client_id = '4a6d2893abff47e28c92847ffb2bbf54'\n",
    "client_secret = '21542f29787e450590d3dd94584a275c'\n",
    "sp = spotipy.Spotify(auth_manager = SpotifyClientCredentials(client_id=client_id, client_secret=client_secret))"
   ]
  },
  {
   "cell_type": "code",
   "execution_count": 12,
   "metadata": {},
   "outputs": [
    {
     "name": "stderr",
     "output_type": "stream",
     "text": [
      "HTTP Error for GET to https://api.spotify.com/v1/search returned 404 due to Not found.\n"
     ]
    }
   ],
   "source": [
    "list_artists = []\n",
    "for index, row in shows.iterrows():\n",
    "    counter = 0\n",
    "    try:\n",
    "        max_songs = sp.search(q = row['artist'],  offset=0, limit=50)['tracks']['total']\n",
    "        while counter < max_songs:\n",
    "            list_songs = []\n",
    "            artist_sp = sp.search(q = row['artist'],  offset=counter, limit=50)\n",
    "            for song in artist_sp['tracks']['items']:\n",
    "                artist_check = [i['name'] for i in song['artists']][0].replace('á','a').replace('é','e').replace('í','i').replace('ó','o')\n",
    "                if artist_check.lower() == row['artist'].lower():\n",
    "                    track = [row['artist'],row['date'],row['location'],song['name'],song['external_urls']['spotify']]\n",
    "                    if track == []:\n",
    "                        pass\n",
    "                    else:\n",
    "                        list_songs.append(track)\n",
    "            if list_songs == []:\n",
    "                pass\n",
    "            else:\n",
    "                list_artists.extend(list_songs)\n",
    "            counter += 50\n",
    "    except:\n",
    "        pass"
   ]
  },
  {
   "cell_type": "code",
   "execution_count": 13,
   "metadata": {},
   "outputs": [
    {
     "data": {
      "text/html": [
       "<div>\n",
       "<style scoped>\n",
       "    .dataframe tbody tr th:only-of-type {\n",
       "        vertical-align: middle;\n",
       "    }\n",
       "\n",
       "    .dataframe tbody tr th {\n",
       "        vertical-align: top;\n",
       "    }\n",
       "\n",
       "    .dataframe thead th {\n",
       "        text-align: right;\n",
       "    }\n",
       "</style>\n",
       "<table border=\"1\" class=\"dataframe\">\n",
       "  <thead>\n",
       "    <tr style=\"text-align: right;\">\n",
       "      <th></th>\n",
       "      <th></th>\n",
       "      <th></th>\n",
       "      <th>song</th>\n",
       "    </tr>\n",
       "    <tr>\n",
       "      <th>artist</th>\n",
       "      <th>date</th>\n",
       "      <th>location</th>\n",
       "      <th></th>\n",
       "    </tr>\n",
       "  </thead>\n",
       "  <tbody>\n",
       "    <tr>\n",
       "      <th>Texas</th>\n",
       "      <th>2021-09-26</th>\n",
       "      <th>Auditorio Fórum Evolución  Burgos</th>\n",
       "      <td>11</td>\n",
       "    </tr>\n",
       "  </tbody>\n",
       "</table>\n",
       "</div>"
      ],
      "text/plain": [
       "                                                     song\n",
       "artist date       location                               \n",
       "Texas  2021-09-26 Auditorio Fórum Evolución  Burgos    11"
      ]
     },
     "execution_count": 13,
     "metadata": {},
     "output_type": "execute_result"
    }
   ],
   "source": [
    "tracks = pd.DataFrame(list_artists)\n",
    "tracks.columns = ['artist', 'date', 'location', 'song', 'spotify']\n",
    "tracks.dropna(inplace=True)\n",
    "tracks.drop_duplicates(inplace=True)\n",
    "tracks.groupby(['artist', 'date','location']).count()[['song']]"
   ]
  },
  {
   "cell_type": "markdown",
   "metadata": {},
   "source": [
    "## Adding the lyrics"
   ]
  },
  {
   "cell_type": "code",
   "execution_count": 14,
   "metadata": {},
   "outputs": [],
   "source": [
    "for index, row in tracks.iterrows():\n",
    "    url_lyrics = f'https://api.lyrics.ovh/v1/{row[\"artist\"]}/{row[\"song\"]}'\n",
    "    try:\n",
    "        resp = requests.get(url_lyrics)\n",
    "        response = resp.json()\n",
    "        if [i for i in response.keys()][0]=='lyrics':\n",
    "            tracks.loc[index,'lyrics'] = response['lyrics']\n",
    "            tracks.loc[index,'url'] = resp.url\n",
    "    except:\n",
    "        pass"
   ]
  },
  {
   "cell_type": "code",
   "execution_count": 15,
   "metadata": {},
   "outputs": [],
   "source": [
    "tracks.dropna(how = 'any', inplace=True)\n",
    "tracks.to_csv(f'output/Conciertos_{city}_{month}.csv', header=True, index=False)"
   ]
  },
  {
   "cell_type": "code",
   "execution_count": 16,
   "metadata": {},
   "outputs": [
    {
     "data": {
      "text/html": [
       "<div>\n",
       "<style scoped>\n",
       "    .dataframe tbody tr th:only-of-type {\n",
       "        vertical-align: middle;\n",
       "    }\n",
       "\n",
       "    .dataframe tbody tr th {\n",
       "        vertical-align: top;\n",
       "    }\n",
       "\n",
       "    .dataframe thead th {\n",
       "        text-align: right;\n",
       "    }\n",
       "</style>\n",
       "<table border=\"1\" class=\"dataframe\">\n",
       "  <thead>\n",
       "    <tr style=\"text-align: right;\">\n",
       "      <th></th>\n",
       "      <th>artist</th>\n",
       "      <th>date</th>\n",
       "      <th>location</th>\n",
       "      <th>song</th>\n",
       "      <th>spotify</th>\n",
       "      <th>lyrics</th>\n",
       "      <th>url</th>\n",
       "    </tr>\n",
       "  </thead>\n",
       "  <tbody>\n",
       "    <tr>\n",
       "      <th>0</th>\n",
       "      <td>Texas</td>\n",
       "      <td>2021-09-26</td>\n",
       "      <td>Auditorio Fórum Evolución  Burgos</td>\n",
       "      <td>Say What You Want</td>\n",
       "      <td>https://open.spotify.com/track/0oSS8NUmfgaX52y...</td>\n",
       "      <td>Twenty seconds on the back time\\r\\nI feel you'...</td>\n",
       "      <td>https://api.lyrics.ovh/v1/Texas/Say%20What%20Y...</td>\n",
       "    </tr>\n",
       "    <tr>\n",
       "      <th>1</th>\n",
       "      <td>Texas</td>\n",
       "      <td>2021-09-26</td>\n",
       "      <td>Auditorio Fórum Evolución  Burgos</td>\n",
       "      <td>Inner Smile</td>\n",
       "      <td>https://open.spotify.com/track/6i3kIF4sosXFhko...</td>\n",
       "      <td>(one, two, three, four)\\r\\nYeh, yeh\\r\\nYeh, ye...</td>\n",
       "      <td>https://api.lyrics.ovh/v1/Texas/Inner%20Smile</td>\n",
       "    </tr>\n",
       "    <tr>\n",
       "      <th>2</th>\n",
       "      <td>Texas</td>\n",
       "      <td>2021-09-26</td>\n",
       "      <td>Auditorio Fórum Evolución  Burgos</td>\n",
       "      <td>I Don't Want A Lover</td>\n",
       "      <td>https://open.spotify.com/track/000u1dTg7y1XCDX...</td>\n",
       "      <td>I don't want a lover\\r\\nI just need a friend\\r...</td>\n",
       "      <td>https://api.lyrics.ovh/v1/Texas/I%20Don't%20Wa...</td>\n",
       "    </tr>\n",
       "    <tr>\n",
       "      <th>3</th>\n",
       "      <td>Texas</td>\n",
       "      <td>2021-09-26</td>\n",
       "      <td>Auditorio Fórum Evolución  Burgos</td>\n",
       "      <td>Hi</td>\n",
       "      <td>https://open.spotify.com/track/2uiapZlNT0NwJVc...</td>\n",
       "      <td>Hi hi hi hi high\\r\\nWe got\\r\\nHi hi hi hi high...</td>\n",
       "      <td>https://api.lyrics.ovh/v1/Texas/Hi</td>\n",
       "    </tr>\n",
       "    <tr>\n",
       "      <th>4</th>\n",
       "      <td>Texas</td>\n",
       "      <td>2021-09-26</td>\n",
       "      <td>Auditorio Fórum Evolución  Burgos</td>\n",
       "      <td>Inner Smile</td>\n",
       "      <td>https://open.spotify.com/track/7zTbBG1yo6VUHbc...</td>\n",
       "      <td>(one, two, three, four)\\r\\nYeh, yeh\\r\\nYeh, ye...</td>\n",
       "      <td>https://api.lyrics.ovh/v1/Texas/Inner%20Smile</td>\n",
       "    </tr>\n",
       "    <tr>\n",
       "      <th>5</th>\n",
       "      <td>Texas</td>\n",
       "      <td>2021-09-26</td>\n",
       "      <td>Auditorio Fórum Evolución  Burgos</td>\n",
       "      <td>Summer Son</td>\n",
       "      <td>https://open.spotify.com/track/2ARTskci0SwksWt...</td>\n",
       "      <td>I'm tired of telling the story\\r\\nTired of tel...</td>\n",
       "      <td>https://api.lyrics.ovh/v1/Texas/Summer%20Son</td>\n",
       "    </tr>\n",
       "    <tr>\n",
       "      <th>6</th>\n",
       "      <td>Texas</td>\n",
       "      <td>2021-09-26</td>\n",
       "      <td>Auditorio Fórum Evolución  Burgos</td>\n",
       "      <td>Black Eyed Boy</td>\n",
       "      <td>https://open.spotify.com/track/6fT9Oe3oy5gWvs8...</td>\n",
       "      <td>No I don't lack ambition\\r\\nCan't you see what...</td>\n",
       "      <td>https://api.lyrics.ovh/v1/Texas/Black%20Eyed%2...</td>\n",
       "    </tr>\n",
       "    <tr>\n",
       "      <th>9</th>\n",
       "      <td>Texas</td>\n",
       "      <td>2021-09-26</td>\n",
       "      <td>Auditorio Fórum Evolución  Burgos</td>\n",
       "      <td>Hi</td>\n",
       "      <td>https://open.spotify.com/track/2j4SsFJ0HbVlT2b...</td>\n",
       "      <td>Hi hi hi hi high\\r\\nWe got\\r\\nHi hi hi hi high...</td>\n",
       "      <td>https://api.lyrics.ovh/v1/Texas/Hi</td>\n",
       "    </tr>\n",
       "  </tbody>\n",
       "</table>\n",
       "</div>"
      ],
      "text/plain": [
       "  artist       date                           location                  song  \\\n",
       "0  Texas 2021-09-26  Auditorio Fórum Evolución  Burgos     Say What You Want   \n",
       "1  Texas 2021-09-26  Auditorio Fórum Evolución  Burgos           Inner Smile   \n",
       "2  Texas 2021-09-26  Auditorio Fórum Evolución  Burgos  I Don't Want A Lover   \n",
       "3  Texas 2021-09-26  Auditorio Fórum Evolución  Burgos                    Hi   \n",
       "4  Texas 2021-09-26  Auditorio Fórum Evolución  Burgos           Inner Smile   \n",
       "5  Texas 2021-09-26  Auditorio Fórum Evolución  Burgos            Summer Son   \n",
       "6  Texas 2021-09-26  Auditorio Fórum Evolución  Burgos        Black Eyed Boy   \n",
       "9  Texas 2021-09-26  Auditorio Fórum Evolución  Burgos                    Hi   \n",
       "\n",
       "                                             spotify  \\\n",
       "0  https://open.spotify.com/track/0oSS8NUmfgaX52y...   \n",
       "1  https://open.spotify.com/track/6i3kIF4sosXFhko...   \n",
       "2  https://open.spotify.com/track/000u1dTg7y1XCDX...   \n",
       "3  https://open.spotify.com/track/2uiapZlNT0NwJVc...   \n",
       "4  https://open.spotify.com/track/7zTbBG1yo6VUHbc...   \n",
       "5  https://open.spotify.com/track/2ARTskci0SwksWt...   \n",
       "6  https://open.spotify.com/track/6fT9Oe3oy5gWvs8...   \n",
       "9  https://open.spotify.com/track/2j4SsFJ0HbVlT2b...   \n",
       "\n",
       "                                              lyrics  \\\n",
       "0  Twenty seconds on the back time\\r\\nI feel you'...   \n",
       "1  (one, two, three, four)\\r\\nYeh, yeh\\r\\nYeh, ye...   \n",
       "2  I don't want a lover\\r\\nI just need a friend\\r...   \n",
       "3  Hi hi hi hi high\\r\\nWe got\\r\\nHi hi hi hi high...   \n",
       "4  (one, two, three, four)\\r\\nYeh, yeh\\r\\nYeh, ye...   \n",
       "5  I'm tired of telling the story\\r\\nTired of tel...   \n",
       "6  No I don't lack ambition\\r\\nCan't you see what...   \n",
       "9  Hi hi hi hi high\\r\\nWe got\\r\\nHi hi hi hi high...   \n",
       "\n",
       "                                                 url  \n",
       "0  https://api.lyrics.ovh/v1/Texas/Say%20What%20Y...  \n",
       "1      https://api.lyrics.ovh/v1/Texas/Inner%20Smile  \n",
       "2  https://api.lyrics.ovh/v1/Texas/I%20Don't%20Wa...  \n",
       "3                 https://api.lyrics.ovh/v1/Texas/Hi  \n",
       "4      https://api.lyrics.ovh/v1/Texas/Inner%20Smile  \n",
       "5       https://api.lyrics.ovh/v1/Texas/Summer%20Son  \n",
       "6  https://api.lyrics.ovh/v1/Texas/Black%20Eyed%2...  \n",
       "9                 https://api.lyrics.ovh/v1/Texas/Hi  "
      ]
     },
     "execution_count": 16,
     "metadata": {},
     "output_type": "execute_result"
    }
   ],
   "source": [
    "tracks"
   ]
  },
  {
   "cell_type": "code",
   "execution_count": 17,
   "metadata": {},
   "outputs": [
    {
     "data": {
      "text/html": [
       "<div>\n",
       "<style scoped>\n",
       "    .dataframe tbody tr th:only-of-type {\n",
       "        vertical-align: middle;\n",
       "    }\n",
       "\n",
       "    .dataframe tbody tr th {\n",
       "        vertical-align: top;\n",
       "    }\n",
       "\n",
       "    .dataframe thead th {\n",
       "        text-align: right;\n",
       "    }\n",
       "</style>\n",
       "<table border=\"1\" class=\"dataframe\">\n",
       "  <thead>\n",
       "    <tr style=\"text-align: right;\">\n",
       "      <th></th>\n",
       "      <th></th>\n",
       "      <th></th>\n",
       "      <th>song</th>\n",
       "    </tr>\n",
       "    <tr>\n",
       "      <th>artist</th>\n",
       "      <th>date</th>\n",
       "      <th>location</th>\n",
       "      <th></th>\n",
       "    </tr>\n",
       "  </thead>\n",
       "  <tbody>\n",
       "    <tr>\n",
       "      <th>Texas</th>\n",
       "      <th>2021-09-26</th>\n",
       "      <th>Auditorio Fórum Evolución  Burgos</th>\n",
       "      <td>8</td>\n",
       "    </tr>\n",
       "  </tbody>\n",
       "</table>\n",
       "</div>"
      ],
      "text/plain": [
       "                                                     song\n",
       "artist date       location                               \n",
       "Texas  2021-09-26 Auditorio Fórum Evolución  Burgos     8"
      ]
     },
     "execution_count": 17,
     "metadata": {},
     "output_type": "execute_result"
    }
   ],
   "source": [
    "tracks.groupby(['artist', 'date','location']).count()[['song']]"
   ]
  },
  {
   "cell_type": "code",
   "execution_count": null,
   "metadata": {},
   "outputs": [],
   "source": []
  }
 ],
 "metadata": {
  "kernelspec": {
   "display_name": "Python 3",
   "language": "python",
   "name": "python3"
  },
  "language_info": {
   "codemirror_mode": {
    "name": "ipython",
    "version": 3
   },
   "file_extension": ".py",
   "mimetype": "text/x-python",
   "name": "python",
   "nbconvert_exporter": "python",
   "pygments_lexer": "ipython3",
   "version": "3.8.5"
  },
  "toc": {
   "base_numbering": 1,
   "nav_menu": {},
   "number_sections": true,
   "sideBar": true,
   "skip_h1_title": false,
   "title_cell": "Table of Contents",
   "title_sidebar": "Contents",
   "toc_cell": false,
   "toc_position": {
    "height": "calc(100% - 180px)",
    "left": "10px",
    "top": "150px",
    "width": "384px"
   },
   "toc_section_display": true,
   "toc_window_display": false
  },
  "varInspector": {
   "cols": {
    "lenName": 16,
    "lenType": 16,
    "lenVar": 40
   },
   "kernels_config": {
    "python": {
     "delete_cmd_postfix": "",
     "delete_cmd_prefix": "del ",
     "library": "var_list.py",
     "varRefreshCmd": "print(var_dic_list())"
    },
    "r": {
     "delete_cmd_postfix": ") ",
     "delete_cmd_prefix": "rm(",
     "library": "var_list.r",
     "varRefreshCmd": "cat(var_dic_list()) "
    }
   },
   "types_to_exclude": [
    "module",
    "function",
    "builtin_function_or_method",
    "instance",
    "_Feature"
   ],
   "window_display": false
  }
 },
 "nbformat": 4,
 "nbformat_minor": 4
}
