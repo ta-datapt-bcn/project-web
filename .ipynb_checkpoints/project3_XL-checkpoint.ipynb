{
 "cells": [
  {
   "cell_type": "markdown",
   "metadata": {},
   "source": [
    "# Project 3 - API and Web Data Scraping"
   ]
  },
  {
   "cell_type": "markdown",
   "metadata": {},
   "source": [
    "Xabi López, April 10, 2021"
   ]
  },
  {
   "cell_type": "markdown",
   "metadata": {},
   "source": [
    "## Importing libraries & creating helpful functions "
   ]
  },
  {
   "cell_type": "code",
   "execution_count": null,
   "metadata": {},
   "outputs": [],
   "source": [
    "import requests\n",
    "from bs4 import BeautifulSoup\n",
    "from datetime import date\n",
    "import pandas as pd\n",
    "import spotipy\n",
    "from spotipy.oauth2 import SpotifyClientCredentials"
   ]
  },
  {
   "cell_type": "code",
   "execution_count": null,
   "metadata": {},
   "outputs": [],
   "source": [
    "def mes_num(x):\n",
    "    meses = ['enero', 'febrero', 'marzo', 'abril', 'mayo', 'junio', 'julio', 'agosto', 'septiembre', 'octubre', 'noviembre', 'diciembre']\n",
    "    for i, j in zip(range(1,13),meses):\n",
    "        if x.lower() == j:\n",
    "            return i\n",
    "        else:\n",
    "            pass"
   ]
  },
  {
   "cell_type": "code",
   "execution_count": null,
   "metadata": {},
   "outputs": [],
   "source": [
    "def show_to_dict(show):\n",
    "    artist = show.find('span', attrs={'itemprop':'name'}).text.replace('á','a').replace('é','e').replace('í','i').replace('ó','o').replace('ú','u')\n",
    "    year = int(show.find('td', attrs={'class':'fechaicono'}).text.split()[3])\n",
    "    month = mes_num(show.find('td', attrs={'class':'fechaicono'}).text.split()[2])\n",
    "    day = int(show.find('td', attrs={'class':'fechaicono'}).text.split()[1])\n",
    "    location = show.find('td', attrs={'itemprop':'location'}).text.lstrip()\n",
    "    return {'artist': artist, 'date':date(year, month, day).isoformat(),'location':location}"
   ]
  },
  {
   "cell_type": "markdown",
   "metadata": {},
   "source": [
    "## Finding shows in the city & month we are interested in"
   ]
  },
  {
   "cell_type": "code",
   "execution_count": null,
   "metadata": {},
   "outputs": [],
   "source": [
    "city = input('City: ')"
   ]
  },
  {
   "cell_type": "code",
   "execution_count": null,
   "metadata": {},
   "outputs": [],
   "source": [
    "month = input('Month: ')"
   ]
  },
  {
   "cell_type": "code",
   "execution_count": null,
   "metadata": {},
   "outputs": [],
   "source": [
    "list_shows = []\n",
    "\n",
    "url_city = f'https://www.laganzua.net/conciertos/{city.lower()}'\n",
    "shows_city = requests.get(url_city)\n",
    "soup = BeautifulSoup(shows_city.text, \"html.parser\")\n",
    "try:\n",
    "    pages = soup.findAll('ul', attrs={\"class\":\"paginador\"})[0]\n",
    "    page_max = int([i.text for i in pages if i.text.isnumeric()][-1])\n",
    "    \n",
    "    for page in range(1,page_max+1):\n",
    "        url_city = f'https://www.laganzua.net/conciertos/{city.lower()}-pagina-{page}'\n",
    "        shows_city = requests.get(url_city)\n",
    "        soup = BeautifulSoup(shows_city.text, \"html.parser\")\n",
    "        shows = soup.findAll('tr', attrs={\"class\":\"categoria\"})\n",
    "        for show in shows:\n",
    "            list_shows.append(show_to_dict(show))\n",
    "        shows = soup.findAll('tr', attrs={\"class\":\"categoriab\"})\n",
    "        for show in shows:\n",
    "            list_shows.append(show_to_dict(show))\n",
    "except:\n",
    "    url_city = f'https://www.laganzua.net/conciertos/{city.lower()}'\n",
    "    shows_city = requests.get(url_city)\n",
    "    soup = BeautifulSoup(shows_city.text, \"html.parser\")\n",
    "    shows = soup.findAll('tr', attrs={\"class\":\"categoria\"})\n",
    "    for show in shows:\n",
    "        list_shows.append(show_to_dict(show))\n",
    "    shows = soup.findAll('tr', attrs={\"class\":\"categoriab\"})\n",
    "    for show in shows:\n",
    "        list_shows.append(show_to_dict(show))"
   ]
  },
  {
   "cell_type": "code",
   "execution_count": null,
   "metadata": {},
   "outputs": [],
   "source": [
    "total_shows = pd.DataFrame(list_shows).sort_values('date').reset_index().drop('index',axis=1)\n",
    "total_shows['date'] = pd.to_datetime(total_shows['date'])\n",
    "total_shows['month']=total_shows['date'].dt.month\n",
    "total_shows"
   ]
  },
  {
   "cell_type": "code",
   "execution_count": null,
   "metadata": {},
   "outputs": [],
   "source": [
    "shows = total_shows[total_shows['month']==mes_num(month)]\n",
    "shows[['artist','date','location']]"
   ]
  },
  {
   "cell_type": "markdown",
   "metadata": {},
   "source": [
    "## Obtaining all the songs from Spotify"
   ]
  },
  {
   "cell_type": "code",
   "execution_count": null,
   "metadata": {},
   "outputs": [],
   "source": [
    "client_id = '4a6d2893abff47e28c92847ffb2bbf54'\n",
    "client_secret = '21542f29787e450590d3dd94584a275c'\n",
    "sp = spotipy.Spotify(auth_manager = SpotifyClientCredentials(client_id=client_id, client_secret=client_secret))"
   ]
  },
  {
   "cell_type": "code",
   "execution_count": null,
   "metadata": {},
   "outputs": [],
   "source": [
    "list_artists = []\n",
    "for index, row in shows.iterrows():\n",
    "    counter = 0\n",
    "    try:\n",
    "        max_songs = sp.search(q = row['artist'],  offset=0, limit=50)['tracks']['total']\n",
    "        while counter < max_songs:\n",
    "            list_songs = []\n",
    "            artist_sp = sp.search(q = row['artist'],  offset=counter, limit=50)\n",
    "            for song in artist_sp['tracks']['items']:\n",
    "                artist_check = [i['name'] for i in song['artists']][0].replace('á','a').replace('é','e').replace('í','i').replace('ó','o')\n",
    "                if artist_check.lower() == row['artist'].lower():\n",
    "                    track = [row['artist'],row['date'],row['location'],song['name'],song['external_urls']['spotify']]\n",
    "                    if track == []:\n",
    "                        pass\n",
    "                    else:\n",
    "                        list_songs.append(track)\n",
    "            if list_songs == []:\n",
    "                pass\n",
    "            else:\n",
    "                list_artists.extend(list_songs)\n",
    "            counter += 50\n",
    "    except:\n",
    "        pass"
   ]
  },
  {
   "cell_type": "code",
   "execution_count": null,
   "metadata": {},
   "outputs": [],
   "source": [
    "tracks = pd.DataFrame(list_artists)\n",
    "tracks.columns = ['artist', 'date', 'location', 'song', 'spotify']\n",
    "tracks.dropna(inplace=True)\n",
    "tracks.drop_duplicates(inplace=True)\n",
    "tracks.groupby(['artist', 'date','location']).count()[['song']]"
   ]
  },
  {
   "cell_type": "markdown",
   "metadata": {},
   "source": [
    "## Adding the lyrics"
   ]
  },
  {
   "cell_type": "code",
   "execution_count": null,
   "metadata": {},
   "outputs": [],
   "source": [
    "for index, row in tracks.iterrows():\n",
    "    url_lyrics = f'https://api.lyrics.ovh/v1/{row[\"artist\"]}/{row[\"song\"]}'\n",
    "    try:\n",
    "        resp = requests.get(url_lyrics)\n",
    "        response = resp.json()\n",
    "        if [i for i in response.keys()][0]=='lyrics':\n",
    "            tracks.loc[index,'lyrics'] = response['lyrics']\n",
    "            tracks.loc[index,'url'] = resp.url\n",
    "    except:\n",
    "        pass"
   ]
  },
  {
   "cell_type": "code",
   "execution_count": null,
   "metadata": {},
   "outputs": [],
   "source": [
    "tracks.dropna(how = 'any', inplace=True)\n",
    "tracks.to_csv(f'output/Conciertos_{city}_{month}.csv', header=True, index=False)"
   ]
  },
  {
   "cell_type": "code",
   "execution_count": null,
   "metadata": {},
   "outputs": [],
   "source": [
    "tracks"
   ]
  },
  {
   "cell_type": "code",
   "execution_count": null,
   "metadata": {},
   "outputs": [],
   "source": [
    "tracks.groupby(['artist', 'date','location']).count()[['song']]"
   ]
  },
  {
   "cell_type": "code",
   "execution_count": null,
   "metadata": {},
   "outputs": [],
   "source": []
  }
 ],
 "metadata": {
  "kernelspec": {
   "display_name": "Python 3",
   "language": "python",
   "name": "python3"
  },
  "language_info": {
   "codemirror_mode": {
    "name": "ipython",
    "version": 3
   },
   "file_extension": ".py",
   "mimetype": "text/x-python",
   "name": "python",
   "nbconvert_exporter": "python",
   "pygments_lexer": "ipython3",
   "version": "3.8.5"
  },
  "toc": {
   "base_numbering": 1,
   "nav_menu": {},
   "number_sections": true,
   "sideBar": true,
   "skip_h1_title": false,
   "title_cell": "Table of Contents",
   "title_sidebar": "Contents",
   "toc_cell": false,
   "toc_position": {
    "height": "calc(100% - 180px)",
    "left": "10px",
    "top": "150px",
    "width": "384px"
   },
   "toc_section_display": true,
   "toc_window_display": false
  },
  "varInspector": {
   "cols": {
    "lenName": 16,
    "lenType": 16,
    "lenVar": 40
   },
   "kernels_config": {
    "python": {
     "delete_cmd_postfix": "",
     "delete_cmd_prefix": "del ",
     "library": "var_list.py",
     "varRefreshCmd": "print(var_dic_list())"
    },
    "r": {
     "delete_cmd_postfix": ") ",
     "delete_cmd_prefix": "rm(",
     "library": "var_list.r",
     "varRefreshCmd": "cat(var_dic_list()) "
    }
   },
   "types_to_exclude": [
    "module",
    "function",
    "builtin_function_or_method",
    "instance",
    "_Feature"
   ],
   "window_display": false
  }
 },
 "nbformat": 4,
 "nbformat_minor": 4
}
